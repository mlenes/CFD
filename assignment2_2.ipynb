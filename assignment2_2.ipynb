{
 "cells": [
  {
   "cell_type": "code",
   "execution_count": 1,
   "id": "4ff4030f",
   "metadata": {},
   "outputs": [],
   "source": [
    "import helpers as h\n",
    "import schwarz_preconditioners as sp\n",
    "import numpy as np\n",
    "import matplotlib.pyplot as plt"
   ]
  },
  {
   "cell_type": "code",
   "execution_count": 2,
   "id": "1abcb6c2",
   "metadata": {},
   "outputs": [],
   "source": [
    "n = 9\n",
    "N = 3\n",
    "A, b = h.assemble_fem_problem(n)"
   ]
  },
  {
   "cell_type": "code",
   "execution_count": 3,
   "id": "d269460c",
   "metadata": {},
   "outputs": [],
   "source": [
    "partition = np.zeros((9, (100)))\n",
    "\n",
    "for i in range(10):\n",
    "    for j in range(10):\n",
    "        \n",
    "        # Omega 1\n",
    "        if (i<=4 and j<=4):\n",
    "            partition[0, i + 10*j] = 1\n",
    "        \n",
    "        # Omega 2\n",
    "        if (i>=2 and i<=7 and j<=4):\n",
    "            partition[1, i + 10*j] = 1\n",
    "        \n",
    "        # Omega 3\n",
    "        if (i>=5 and j<=4):\n",
    "            partition[2, i + 10*j] = 1\n",
    "        \n",
    "        # Omega 4\n",
    "        if (i<=4 and j>=2 and j<=7):\n",
    "            partition[3, i + 10*j] = 1\n",
    "        \n",
    "        # Omega 5\n",
    "        if (i>=2 and i<=7 and j>=2 and j<=7):\n",
    "            partition[4, i + 10*j] = 1\n",
    "            \n",
    "        # Omega 6\n",
    "        if (i>=5 and j>=2 and j<=7):\n",
    "            partition[5, i + 10*j] = 1\n",
    "            \n",
    "        # Omega 7\n",
    "        if (i<=4 and j>=5):\n",
    "            partition[6, i + 10*j] = 1\n",
    "            \n",
    "        # Omega 8\n",
    "        if (i>=2 and i<=7 and j>=5):\n",
    "            partition[7, i + 10*j] = 1\n",
    "        \n",
    "        # Omega 9\n",
    "        if (i>=5 and j>=5):\n",
    "            partition[8, i + 10*j] = 1\n",
    "\n",
    "partition = partition.T\n",
    "\n",
    "num_subdomains = partition.shape[1]\n",
    "\n",
    "Omega_ovlp = [partition[:, i].nonzero()[0] for i in range(num_subdomains)]\n",
    "Omega_i_ovlp = Omega_ovlp[0]\n",
    "Ai = A[Omega_i_ovlp[:, None], Omega_i_ovlp]"
   ]
  },
  {
   "cell_type": "code",
   "execution_count": 4,
   "id": "85362fdd",
   "metadata": {},
   "outputs": [
    {
     "name": "stdout",
     "output_type": "stream",
     "text": [
      "CG iteration 1, residual = 1.2430264721561664\n",
      "CG iteration 2, residual = 0.2959234292220508\n",
      "CG iteration 3, residual = 0.14033460033245676\n",
      "CG iteration 4, residual = 0.052114569038215396\n",
      "CG iteration 5, residual = 0.008543904272939901\n",
      "CG iteration 6, residual = 0.0003221150587159629\n",
      "CG iteration 7, residual = 9.982219605585397e-05\n",
      "CG iteration 8, residual = 2.391953023992386e-16\n"
     ]
    },
    {
     "data": {
      "image/png": "[encoded data removed]",
      "text/plain": [
       "<Figure size 640x480 with 1 Axes>"
      ]
     },
     "metadata": {},
     "output_type": "display_data"
    }
   ],
   "source": [
    "one_level = sp.OneLevelOASPreconditioner(A, partition)\n",
    "x0 = np.zeros_like(b)\n",
    "\n",
    "u_approx = h.cg(A, b, tol=1e-6, maxiter=200, x0=x0, pre=one_level.apply)\n",
    "res = u_approx.reshape(10,10)\n",
    "plt.imshow(res)\n",
    "plt.show()"
   ]
  },
  {
   "cell_type": "code",
   "execution_count": 10,
   "id": "16c8b748",
   "metadata": {},
   "outputs": [
    {
     "name": "stdout",
     "output_type": "stream",
     "text": [
      "(49, 16)\n",
      "  (0, 0)\t1.0\n",
      "  (1, 1)\t1.0\n",
      "  (2, 2)\t1.0\n",
      "  (3, 3)\t1.0\n",
      "  (4, 4)\t1.0\n",
      "  (5, 5)\t1.0\n",
      "  (6, 6)\t1.0\n",
      "  (7, 7)\t1.0\n",
      "  (8, 8)\t1.0\n",
      "  (9, 9)\t1.0\n",
      "  (10, 10)\t1.0\n",
      "  (11, 11)\t2.6666666666666674\n",
      "  (12, 11)\t-0.3333333333333335\n",
      "  (21, 11)\t-0.3333333333333335\n",
      "  (22, 11)\t-0.3333333333333335\n",
      "  (11, 12)\t-0.3333333333333335\n",
      "  (12, 12)\t2.6666666666666674\n",
      "  (13, 12)\t-0.3333333333333335\n",
      "  (21, 12)\t-0.3333333333333335\n",
      "  (22, 12)\t-0.3333333333333335\n",
      "  (23, 12)\t-0.3333333333333335\n",
      "  (12, 13)\t-0.3333333333333335\n",
      "  (13, 13)\t2.6666666666666674\n",
      "  (14, 13)\t-0.3333333333333335\n",
      "  (22, 13)\t-0.3333333333333335\n",
      "  :\t:\n",
      "  (77, 86)\t-0.33333333333333337\n",
      "  (85, 86)\t-0.33333333333333387\n",
      "  (86, 86)\t2.666666666666668\n",
      "  (87, 86)\t-0.33333333333333304\n",
      "  (76, 87)\t-0.33333333333333337\n",
      "  (77, 87)\t-0.3333333333333338\n",
      "  (78, 87)\t-0.3333333333333335\n",
      "  (86, 87)\t-0.33333333333333304\n",
      "  (87, 87)\t2.666666666666668\n",
      "  (88, 87)\t-0.33333333333333387\n",
      "  (77, 88)\t-0.3333333333333335\n",
      "  (78, 88)\t-0.3333333333333338\n",
      "  (87, 88)\t-0.33333333333333387\n",
      "  (88, 88)\t2.666666666666668\n",
      "  (89, 89)\t1.0\n",
      "  (90, 90)\t1.0\n",
      "  (91, 91)\t1.0\n",
      "  (92, 92)\t1.0\n",
      "  (93, 93)\t1.0\n",
      "  (94, 94)\t1.0\n",
      "  (95, 95)\t1.0\n",
      "  (96, 96)\t1.0\n",
      "  (97, 97)\t1.0\n",
      "  (98, 98)\t1.0\n",
      "  (99, 99)\t1.0\n"
     ]
    }
   ],
   "source": [
    "print(Phi.shape)\n",
    "print(A)"
   ]
  },
  {
   "cell_type": "code",
   "execution_count": 6,
   "id": "ad5e909a",
   "metadata": {},
   "outputs": [
    {
     "ename": "ValueError",
     "evalue": "dimension mismatch",
     "output_type": "error",
     "traceback": [
      "\u001b[0;31m---------------------------------------------------------------------------\u001b[0m",
      "\u001b[0;31mValueError\u001b[0m                                Traceback (most recent call last)",
      "Cell \u001b[0;32mIn[6], line 2\u001b[0m\n\u001b[1;32m      1\u001b[0m Phi \u001b[38;5;241m=\u001b[39m h\u001b[38;5;241m.\u001b[39massemble_prolongation_operator(N, n)\n\u001b[0;32m----> 2\u001b[0m two_level \u001b[38;5;241m=\u001b[39m \u001b[43msp\u001b[49m\u001b[38;5;241;43m.\u001b[39;49m\u001b[43mTwoLevelOASPreconditioner\u001b[49m\u001b[43m(\u001b[49m\u001b[43mA\u001b[49m\u001b[43m,\u001b[49m\u001b[43m \u001b[49m\u001b[43mpartition\u001b[49m\u001b[43m,\u001b[49m\u001b[43m \u001b[49m\u001b[43mPhi\u001b[49m\u001b[43m)\u001b[49m\n",
      "File \u001b[0;32m~/HDD/CFD/schwarz_preconditioners.py:74\u001b[0m, in \u001b[0;36mTwoLevelOASPreconditioner.__init__\u001b[0;34m(self, A, partition, Phi)\u001b[0m\n\u001b[1;32m     72\u001b[0m \u001b[38;5;28msuper\u001b[39m()\u001b[38;5;241m.\u001b[39m\u001b[38;5;21m__init__\u001b[39m(A, partition)\n\u001b[1;32m     73\u001b[0m \u001b[38;5;28mself\u001b[39m\u001b[38;5;241m.\u001b[39mPhi \u001b[38;5;241m=\u001b[39m Phi\n\u001b[0;32m---> 74\u001b[0m \u001b[38;5;28mself\u001b[39m\u001b[38;5;241m.\u001b[39mcoarse_solver \u001b[38;5;241m=\u001b[39m \u001b[38;5;28;43mself\u001b[39;49m\u001b[38;5;241;43m.\u001b[39;49m\u001b[43m_get_coarse_solver\u001b[49m\u001b[43m(\u001b[49m\u001b[43m)\u001b[49m\n",
      "File \u001b[0;32m~/HDD/CFD/schwarz_preconditioners.py:78\u001b[0m, in \u001b[0;36mTwoLevelOASPreconditioner._get_coarse_solver\u001b[0;34m(self)\u001b[0m\n\u001b[1;32m     76\u001b[0m \u001b[38;5;28;01mdef\u001b[39;00m \u001b[38;5;21m_get_coarse_solver\u001b[39m(\u001b[38;5;28mself\u001b[39m):\n\u001b[1;32m     77\u001b[0m     \u001b[38;5;66;03m# ************\u001b[39;00m\n\u001b[0;32m---> 78\u001b[0m     K0 \u001b[38;5;241m=\u001b[39m \u001b[38;5;28;43mself\u001b[39;49m\u001b[38;5;241;43m.\u001b[39;49m\u001b[43mPhi\u001b[49m\u001b[38;5;241;43m.\u001b[39;49m\u001b[43mT\u001b[49m\u001b[43m \u001b[49m\u001b[38;5;241;43m@\u001b[39;49m\u001b[43m \u001b[49m\u001b[38;5;28;43mself\u001b[39;49m\u001b[38;5;241;43m.\u001b[39;49m\u001b[43mA\u001b[49m \u001b[38;5;241m@\u001b[39m \u001b[38;5;28mself\u001b[39m\u001b[38;5;241m.\u001b[39mPhi\n\u001b[1;32m     79\u001b[0m     K0_lu \u001b[38;5;241m=\u001b[39m splu(K0)\n\u001b[1;32m     80\u001b[0m     \u001b[38;5;28;01mreturn\u001b[39;00m K0_lu\n",
      "File \u001b[0;32m/usr/lib/python3/dist-packages/scipy/sparse/_base.py:624\u001b[0m, in \u001b[0;36m_spbase.__matmul__\u001b[0;34m(self, other)\u001b[0m\n\u001b[1;32m    621\u001b[0m \u001b[38;5;28;01mif\u001b[39;00m isscalarlike(other):\n\u001b[1;32m    622\u001b[0m     \u001b[38;5;28;01mraise\u001b[39;00m \u001b[38;5;167;01mValueError\u001b[39;00m(\u001b[38;5;124m\"\u001b[39m\u001b[38;5;124mScalar operands are not allowed, \u001b[39m\u001b[38;5;124m\"\u001b[39m\n\u001b[1;32m    623\u001b[0m                      \u001b[38;5;124m\"\u001b[39m\u001b[38;5;124muse \u001b[39m\u001b[38;5;124m'\u001b[39m\u001b[38;5;124m*\u001b[39m\u001b[38;5;124m'\u001b[39m\u001b[38;5;124m instead\u001b[39m\u001b[38;5;124m\"\u001b[39m)\n\u001b[0;32m--> 624\u001b[0m \u001b[38;5;28;01mreturn\u001b[39;00m \u001b[38;5;28;43mself\u001b[39;49m\u001b[38;5;241;43m.\u001b[39;49m\u001b[43m_mul_dispatch\u001b[49m\u001b[43m(\u001b[49m\u001b[43mother\u001b[49m\u001b[43m)\u001b[49m\n",
      "File \u001b[0;32m/usr/lib/python3/dist-packages/scipy/sparse/_base.py:534\u001b[0m, in \u001b[0;36m_spbase._mul_dispatch\u001b[0;34m(self, other)\u001b[0m\n\u001b[1;32m    532\u001b[0m \u001b[38;5;28;01mif\u001b[39;00m issparse(other):\n\u001b[1;32m    533\u001b[0m     \u001b[38;5;28;01mif\u001b[39;00m \u001b[38;5;28mself\u001b[39m\u001b[38;5;241m.\u001b[39mshape[\u001b[38;5;241m1\u001b[39m] \u001b[38;5;241m!=\u001b[39m other\u001b[38;5;241m.\u001b[39mshape[\u001b[38;5;241m0\u001b[39m]:\n\u001b[0;32m--> 534\u001b[0m         \u001b[38;5;28;01mraise\u001b[39;00m \u001b[38;5;167;01mValueError\u001b[39;00m(\u001b[38;5;124m'\u001b[39m\u001b[38;5;124mdimension mismatch\u001b[39m\u001b[38;5;124m'\u001b[39m)\n\u001b[1;32m    535\u001b[0m     \u001b[38;5;28;01mreturn\u001b[39;00m \u001b[38;5;28mself\u001b[39m\u001b[38;5;241m.\u001b[39m_mul_sparse_matrix(other)\n\u001b[1;32m    537\u001b[0m \u001b[38;5;66;03m# If it's a list or whatever, treat it like an array\u001b[39;00m\n",
      "\u001b[0;31mValueError\u001b[0m: dimension mismatch"
     ]
    }
   ],
   "source": [
    "Phi = h.assemble_prolongation_operator(N, n)\n",
    "two_level = sp.TwoLevelOASPreconditioner(A, partition, Phi)\n",
    "\n",
    "x0 = np.zeros_like(b)\n",
    "\n",
    "u_approx = h.cg(A, b, tol=1e-6, maxiter=200, x0=x0, pre=two_level.apply)\n",
    "res = u_approx.reshape(10,10)\n",
    "plt.imshow(res)\n",
    "plt.show()"
   ]
  }
 ],
 "metadata": {
  "kernelspec": {
   "display_name": "CFD_env",
   "language": "python",
   "name": "cfd_env"
  },
  "language_info": {
   "codemirror_mode": {
    "name": "ipython",
    "version": 3
   },
   "file_extension": ".py",
   "mimetype": "text/x-python",
   "name": "python",
   "nbconvert_exporter": "python",
   "pygments_lexer": "ipython3",
   "version": "3.12.3"
  }
 },
 "nbformat": 4,
 "nbformat_minor": 5
}
