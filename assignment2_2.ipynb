{
 "cells": [
  {
   "cell_type": "code",
   "execution_count": 1,
   "id": "4ff4030f",
   "metadata": {},
   "outputs": [],
   "source": [
    "import helpers as h\n",
    "import schwarz_preconditioners as sp\n",
    "import numpy as np\n",
    "import matplotlib.pyplot as plt"
   ]
  },
  {
   "cell_type": "code",
   "execution_count": 2,
   "id": "1abcb6c2",
   "metadata": {},
   "outputs": [],
   "source": [
    "n = 9\n",
    "A, b = h.assemble_fem_problem(n)"
   ]
  },
  {
   "cell_type": "code",
   "execution_count": 3,
   "id": "d269460c",
   "metadata": {},
   "outputs": [],
   "source": [
    "partition = np.zeros((9, (100)))\n",
    "\n",
    "for i in range(10):\n",
    "    for j in range(10):\n",
    "        \n",
    "        # Omega 1\n",
    "        if (i<=4 and j<=4):\n",
    "            partition[0, i + 10*j] = 1\n",
    "        \n",
    "        # Omega 2\n",
    "        if (i>=2 and i<=7 and j<=4):\n",
    "            partition[1, i + 10*j] = 1\n",
    "        \n",
    "        # Omega 3\n",
    "        if (i>=5 and j<=4):\n",
    "            partition[2, i + 10*j] = 1\n",
    "        \n",
    "        # Omega 4\n",
    "        if (i<=4 and j>=2 and j<=7):\n",
    "            partition[3, i + 10*j] = 1\n",
    "        \n",
    "        # Omega 5\n",
    "        if (i>=2 and i<=7 and j>=2 and j<=7):\n",
    "            partition[4, i + 10*j] = 1\n",
    "            \n",
    "        # Omega 6\n",
    "        if (i>=5 and j>=2 and j<=7):\n",
    "            partition[5, i + 10*j] = 1\n",
    "            \n",
    "        # Omega 7\n",
    "        if (i<=4 and j>=5):\n",
    "            partition[6, i + 10*j] = 1\n",
    "            \n",
    "        # Omega 8\n",
    "        if (i>=2 and i<=7 and j>=5):\n",
    "            partition[7, i + 10*j] = 1\n",
    "        \n",
    "        # Omega 9\n",
    "        if (i>=5 and j>=5):\n",
    "            partition[8, i + 10*j] = 1\n",
    "\n",
    "partition = partition.T\n",
    "\n",
    "num_subdomains = partition.shape[1]\n",
    "\n",
    "Omega_ovlp = [partition[:, i].nonzero()[0] for i in range(num_subdomains)]\n",
    "Omega_i_ovlp = Omega_ovlp[0]\n",
    "Ai = A[Omega_i_ovlp[:, None], Omega_i_ovlp]"
   ]
  },
  {
   "cell_type": "code",
   "execution_count": 11,
   "id": "85362fdd",
   "metadata": {},
   "outputs": [
    {
     "name": "stdout",
     "output_type": "stream",
     "text": [
      "CG iteration 1, residual = 1.2430264721561664\n",
      "CG iteration 2, residual = 0.2959234292220508\n",
      "CG iteration 3, residual = 0.14033460033245676\n",
      "CG iteration 4, residual = 0.052114569038215396\n",
      "CG iteration 5, residual = 0.008543904272939901\n",
      "CG iteration 6, residual = 0.0003221150587159629\n",
      "CG iteration 7, residual = 9.982219605585397e-05\n",
      "CG iteration 8, residual = 2.391953023992386e-16\n"
     ]
    },
    {
     "data": {
      "image/png": "[encoded data removed]",
      "text/plain": [
       "<Figure size 640x480 with 1 Axes>"
      ]
     },
     "metadata": {},
     "output_type": "display_data"
    }
   ],
   "source": [
    "one_level = sp.OneLevelOASPreconditioner(A, partition)\n",
    "x0 = np.zeros_like(b)\n",
    "\n",
    "u_approx = h.cg(A, b, tol=1e-6, maxiter=200, x0=x0, pre=one_level.apply)\n",
    "res = u_approx.reshape(10,10)\n",
    "plt.imshow(res)\n",
    "plt.show()"
   ]
  },
  {
   "cell_type": "code",
   "execution_count": null,
   "id": "ad5e909a",
   "metadata": {},
   "outputs": [],
   "source": []
  }
 ],
 "metadata": {
  "kernelspec": {
   "display_name": "CFD_env",
   "language": "python",
   "name": "cfd_env"
  },
  "language_info": {
   "codemirror_mode": {
    "name": "ipython",
    "version": 3
   },
   "file_extension": ".py",
   "mimetype": "text/x-python",
   "name": "python",
   "nbconvert_exporter": "python",
   "pygments_lexer": "ipython3",
   "version": "3.12.3"
  }
 },
 "nbformat": 4,
 "nbformat_minor": 5
}
